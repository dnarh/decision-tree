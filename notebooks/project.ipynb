{
 "cells": [
  {
   "cell_type": "markdown",
   "metadata": {},
   "source": [
    "## Import and Helper Functions"
   ]
  },
  {
   "cell_type": "code",
   "execution_count": 24,
   "metadata": {},
   "outputs": [],
   "source": [
    "import os\n",
    "import sys\n",
    "import time\n",
    "import pandas as pd\n",
    "from pathlib import Path\n",
    "from git import Repo\n",
    "from sklearn.model_selection import train_test_split\n",
    "from sklearn.tree import DecisionTreeClassifier\n",
    "\n",
    "# Set paths\n",
    "repo_root = Path(Repo(\".\", search_parent_directories=True).working_tree_dir)\n",
    "src_folder = repo_root.joinpath('src')\n",
    "\n",
    "# Local imports\n",
    "sys.path.append(src_folder.as_posix())\n",
    "from decisiontree.DecisionTree import DecisionTree\n",
    "\n",
    "# Other paths\n",
    "data_path = repo_root.joinpath('data')\n",
    "\n",
    "\n",
    "def accuracy(y_pred, y_val):\n",
    "    \"\"\"\n",
    "    Calculating classifier accuracy. \n",
    "    \n",
    "    Args:\n",
    "        y_pred: Predicted labels.\n",
    "        y_val: True labels.\n",
    "    \n",
    "    Returns:\n",
    "        Prediction accuracy in percentage. \n",
    "    \"\"\"\n",
    "    \n",
    "    true_pos = 0\n",
    "    for c, val in enumerate(y_pred):\n",
    "        if val == y_val.iloc[c]:\n",
    "            true_pos += 1\n",
    "    return (true_pos / len(y_pred))*100\n",
    "\n",
    "\n",
    "def compare(X, y, X_test, imp_meas):\n",
    "    \"\"\"\n",
    "    Comparing implemented decision tree classifier with scikit-learns default decision tree classifier.\n",
    "    \n",
    "    Args:\n",
    "        X: Feature data for training.\n",
    "        y: Label data for training.\n",
    "        X_test: Feature data for testing.. \n",
    "        imp_meas: Impurity measure used in decision tree.\n",
    "    \n",
    "    Returns:\n",
    "        Pandas Series object containin predictions from both decision trees.\n",
    "    \"\"\"\n",
    "    \n",
    "    sk_dt = DecisionTreeClassifier(criterion=imp_meas)\n",
    "    sk_dt.fit(X,y)\n",
    "    return pd.Series(sk_dt.predict(X_test))"
   ]
  },
  {
   "cell_type": "markdown",
   "metadata": {},
   "source": [
    "## Build decision trees and calculate metrics"
   ]
  },
  {
   "cell_type": "code",
   "execution_count": 25,
   "metadata": {},
   "outputs": [
    {
     "name": "stdout",
     "output_type": "stream",
     "text": [
      "\n",
      "Impurity measure: entropy, Error-reduced pruning: True\n",
      "Time consumption: 0.3604 seconds\n",
      "Accuracy: 86.65%\n",
      "\n",
      "Impurity measure: entropy, Error-reduced pruning: False\n",
      "Time consumption: 0.4140 seconds\n",
      "Accuracy: 99.03%\n",
      "sklearn accuracy: 98.79%\n",
      "\n",
      "Impurity measure: gini, Error-reduced pruning: True\n",
      "Time consumption: 0.3719 seconds\n",
      "Accuracy: 86.65%\n",
      "\n",
      "Impurity measure: gini, Error-reduced pruning: False\n",
      "Time consumption: 0.3666 seconds\n",
      "Accuracy: 99.03%\n",
      "sklearn accuracy: 98.79%\n"
     ]
    }
   ],
   "source": [
    "# Import dataset\n",
    "data = pd.read_csv(os.path.join(data_path, 'data_banknote_authentication.csv'), header=None)\n",
    "\n",
    "# Divide dataset into feature and label set\n",
    "X = data[data.keys()[:-1]]\n",
    "y = data[data.keys()[-1]]\n",
    "\n",
    "# Split dataset into training and test set\n",
    "X, X_test, y, y_test = train_test_split(X, y, test_size=0.3, random_state=1)\n",
    "\n",
    "# Train and test trees with both impurity measures and with/without pruning\n",
    "for imp_meas in ['entropy', 'gini']:\n",
    "    for pr in [True, False]:\n",
    "        # Timer\n",
    "        tic = time.perf_counter()\n",
    "        \n",
    "        dt = DecisionTree()\n",
    "        dt.learn(X, y, impurity_measure=imp_meas, prune=pr)\n",
    "        pred = pd.Series(dt.predict(X_test))\n",
    "        \n",
    "        toc = time.perf_counter()\n",
    "\n",
    "        print('\\nImpurity measure: {}, Error-reduced pruning: {}'.format(imp_meas, pr))\n",
    "        print('Time consumption: {:0.4f} seconds'.format((toc-tic)))\n",
    "        print('Accuracy: {:.2f}%'.format(accuracy(pred, y_test)))\n",
    "        if not pr:\n",
    "            cmp = compare(X, y, X_test, imp_meas)\n",
    "            print('sklearn accuracy: {:.2f}%'.format(accuracy(cmp, y_test)))"
   ]
  }
 ],
 "metadata": {
  "kernelspec": {
   "display_name": "Python 3",
   "language": "python",
   "name": "python3"
  },
  "language_info": {
   "codemirror_mode": {
    "name": "ipython",
    "version": 3
   },
   "file_extension": ".py",
   "mimetype": "text/x-python",
   "name": "python",
   "nbconvert_exporter": "python",
   "pygments_lexer": "ipython3",
   "version": "3.7.8"
  }
 },
 "nbformat": 4,
 "nbformat_minor": 4
}
